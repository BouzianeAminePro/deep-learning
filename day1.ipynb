{
 "cells": [
  {
   "cell_type": "code",
   "execution_count": 13,
   "metadata": {},
   "outputs": [],
   "source": [
    "from torch import nn, tensor\n",
    "\n",
    "class MyModel(nn.Module):\n",
    "    def __init__(self):\n",
    "        super().__init__()\n",
    "        self.hidden = nn.Linear(3, 4)\n",
    "        self.output = nn.Linear(4, 1)\n",
    "        self.relu = nn.ReLU();\n",
    "\n",
    "    def forward(self, x):\n",
    "        output = self.hidden(x)\n",
    "        output = self.relu(output)\n",
    "        return self.output(output)"
   ]
  },
  {
   "cell_type": "markdown",
   "metadata": {},
   "source": [
    "# Model description\n",
    "\n",
    "## Layers:\n",
    "\n",
    "This model has two layers:\n",
    "\n",
    "1. A hidden layer with 4 neurons and a ReLU activation function.\n",
    "2. An output layer with 1 neuron."
   ]
  },
  {
   "cell_type": "code",
   "execution_count": 14,
   "metadata": {},
   "outputs": [],
   "source": [
    "import pandas as pd\n",
    "from sklearn.preprocessing import LabelEncoder\n",
    "\n",
    "data = pd.read_csv('static/car_data.csv', usecols=['combination_mpg', 'fuel_type', 'cylinders'])\n",
    "label_encoder = LabelEncoder()\n",
    "data['fuel_type'] = label_encoder.fit_transform(data['fuel_type'])\n",
    "\n",
    "train_data = data.sample(frac=0.8, random_state=42)\n",
    "test_data = data.drop(train_data.index)\n",
    "\n",
    "train_data = tensor(train_data.values)"
   ]
  },
  {
   "cell_type": "markdown",
   "metadata": {},
   "source": [
    "# Data\n",
    "\n",
    "1. Load data using pands package, split into two clusters, half for training, half for testing my model after it.\n",
    "2. Pick only useful columns\n",
    "3. Parse from DataFrame to Tensor\n",
    "\n",
    "## NOTE:\n",
    "We must transform/cast all fields to digital type, so we can cast the DataFrame to a Tensor.\n",
    "Why do all that ? We can only use tensors to train a model with torch. "
   ]
  }
 ],
 "metadata": {
  "kernelspec": {
   "display_name": "deep-learning",
   "language": "python",
   "name": "python3"
  },
  "language_info": {
   "codemirror_mode": {
    "name": "ipython",
    "version": 3
   },
   "file_extension": ".py",
   "mimetype": "text/x-python",
   "name": "python",
   "nbconvert_exporter": "python",
   "pygments_lexer": "ipython3",
   "version": "3.11.5"
  }
 },
 "nbformat": 4,
 "nbformat_minor": 2
}
