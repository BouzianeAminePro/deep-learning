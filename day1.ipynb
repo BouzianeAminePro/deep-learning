{
 "cells": [
  {
   "cell_type": "code",
   "execution_count": 5,
   "metadata": {},
   "outputs": [],
   "source": [
    "from torch import nn\n",
    "\n",
    "class MyModel(nn.Module):\n",
    "    def __init__(self):\n",
    "        super().__init__()\n",
    "        self.hidden = nn.Linear(3, 4)\n",
    "        self.output = nn.Linear(4, 1)\n",
    "        self.relu = nn.ReLU();\n",
    "\n",
    "    def forward(self, x):\n",
    "        output = self.hidden(x)\n",
    "        output = self.relu(output)\n",
    "        return self.output(output)"
   ]
  },
  {
   "cell_type": "markdown",
   "metadata": {},
   "source": [
    "# Model description\n",
    "\n",
    "## Layers:\n",
    "\n",
    "This model has two layers:\n",
    "\n",
    "1. A hidden layer with 4 neurons and a ReLU activation function.\n",
    "2. An output layer with 1 neuron.\n",
    "\n",
    "\n"
   ]
  },
  {
   "cell_type": "code",
   "execution_count": 8,
   "metadata": {},
   "outputs": [
    {
     "name": "stdout",
     "output_type": "stream",
     "text": [
      "model MyModel(\n",
      "  (hidden): Linear(in_features=3, out_features=4, bias=True)\n",
      "  (output): Linear(in_features=4, out_features=1, bias=True)\n",
      "  (relu): ReLU()\n",
      ")\n"
     ]
    }
   ],
   "source": []
  }
 ],
 "metadata": {
  "kernelspec": {
   "display_name": "deep-learning",
   "language": "python",
   "name": "python3"
  },
  "language_info": {
   "codemirror_mode": {
    "name": "ipython",
    "version": 3
   },
   "file_extension": ".py",
   "mimetype": "text/x-python",
   "name": "python",
   "nbconvert_exporter": "python",
   "pygments_lexer": "ipython3",
   "version": "3.11.5"
  }
 },
 "nbformat": 4,
 "nbformat_minor": 2
}
